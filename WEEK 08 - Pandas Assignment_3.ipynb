{
 "cells": [
  {
   "cell_type": "markdown",
   "metadata": {},
   "source": [
    "Consider following code to answer further questions:\n",
    "import pandas as pd\n",
    "course_name = [‘Data Science’, ‘Machine Learning’, ‘Big Data’, ‘Data Engineer’]\n",
    "duration = [2,3,6,4]\n",
    "df = pd.DataFrame(data = {‘course_name’ : course_name, ‘duration’ : duration})"
   ]
  },
  {
   "cell_type": "markdown",
   "metadata": {},
   "source": [
    "**Q1.** Write a code to print the data present in the second row of the dataframe, df."
   ]
  },
  {
   "cell_type": "code",
   "execution_count": 1,
   "metadata": {},
   "outputs": [
    {
     "name": "stdout",
     "output_type": "stream",
     "text": [
      "course_name    Machine Learning\n",
      "duration                      3\n",
      "Name: 1, dtype: object\n"
     ]
    }
   ],
   "source": [
    "import pandas as pd\n",
    "\n",
    "course_name = ['Data Science', 'Machine Learning', 'Big Data', 'Data Engineer']\n",
    "duration = [2, 3, 6, 4]\n",
    "df = pd.DataFrame(data={'course_name': course_name, 'duration': duration})\n",
    "\n",
    "second_row_data = df.iloc[1]\n",
    "print(second_row_data)\n"
   ]
  },
  {
   "cell_type": "markdown",
   "metadata": {},
   "source": [
    "**Q2.** What is the difference between the functions loc and iloc in pandas.DataFrame?"
   ]
  },
  {
   "cell_type": "markdown",
   "metadata": {},
   "source": [
    "**loc (Label-based indexing):**\n",
    "\n",
    "Used for accessing data using row and column labels.\n",
    "\n",
    "Requires providing row and column labels explicitly.\n",
    "\n",
    "Labels can be strings, integers, or boolean arrays corresponding to index and column names.\n",
    "\n",
    "Provides more flexibility when dealing with non-integer labels or non-contiguous indices.\n",
    "\n",
    "**iloc (Integer-location based indexing):**\n",
    "\n",
    "Used for accessing data using integer-based positions for rows and columns.\n",
    "\n",
    "Requires providing integer positions of rows and columns, starting from 0.\n",
    "\n",
    "Operates purely based on integer positions and does not consider row or column labels.\n",
    "\n",
    "Useful for simple integer-based selection and slicing operations.\n",
    "\n",
    "\n",
    "\n",
    "\n"
   ]
  },
  {
   "cell_type": "markdown",
   "metadata": {},
   "source": [
    "**Q3.** Reindex the given dataframe using a variable, reindex = [3,0,1,2] and store it in the variable, new_df\n",
    "then find the output for both new_df.loc[2] and new_df.iloc[2]."
   ]
  },
  {
   "cell_type": "code",
   "execution_count": 2,
   "metadata": {},
   "outputs": [
    {
     "name": "stdout",
     "output_type": "stream",
     "text": [
      "new_df:\n",
      "        course_name  duration\n",
      "3     Data Engineer         4\n",
      "0      Data Science         2\n",
      "1  Machine Learning         3\n",
      "2          Big Data         6\n"
     ]
    }
   ],
   "source": [
    "course_name = ['Data Science', 'Machine Learning', 'Big Data', 'Data Engineer']\n",
    "duration = [2, 3, 6, 4]\n",
    "df = pd.DataFrame(data={'course_name': course_name, 'duration': duration})\n",
    "\n",
    "reindex = [3, 0, 1, 2]\n",
    "new_df = df.reindex(reindex)\n",
    "\n",
    "print(\"new_df:\")\n",
    "print(new_df)\n"
   ]
  },
  {
   "cell_type": "code",
   "execution_count": 4,
   "metadata": {},
   "outputs": [
    {
     "name": "stdout",
     "output_type": "stream",
     "text": [
      "\n",
      "Output for new_df.loc[2]:\n",
      "\n",
      "course_name    Big Data\n",
      "duration              6\n",
      "Name: 2, dtype: object\n",
      "\n",
      "Output for new_df.iloc[2]:\n",
      "\n",
      "course_name    Machine Learning\n",
      "duration                      3\n",
      "Name: 1, dtype: object\n"
     ]
    }
   ],
   "source": [
    "# Accessing data using loc\n",
    "print(\"\\nOutput for new_df.loc[2]:\\n\")\n",
    "print(new_df.loc[2])\n",
    "\n",
    "# Accessing data using iloc\n",
    "print(\"\\nOutput for new_df.iloc[2]:\\n\")\n",
    "print(new_df.iloc[2])"
   ]
  },
  {
   "cell_type": "markdown",
   "metadata": {},
   "source": [
    "**new_df.loc[2]** accessed the row with label/index 2, which corresponds to the row containing 'Big Data' and duration 6.\n",
    "\n",
    "**new_df.iloc[2]** accessed the row with integer position 2, which corresponds to the row containing 'Machine Learning' and duration 3."
   ]
  },
  {
   "cell_type": "markdown",
   "metadata": {},
   "source": [
    "**Consider the below code to answer further questions:**\n",
    "\n",
    "import pandas as pd\n",
    "\n",
    "import numpy as np\n",
    "\n",
    "columns = ['column_1', 'column_2', 'column_3', 'column_4', 'column_5', 'column_6']\n",
    "\n",
    "indices = [1,2,3,4,5,6]\n",
    "\n",
    "#Creating a dataframe:\n",
    "\n",
    "df1 = pd.DataFrame(np.random.rand(6,6), columns = columns, index = indices)"
   ]
  },
  {
   "cell_type": "markdown",
   "metadata": {},
   "source": [
    "**Q4.** Write a code to find the following statistical measurements for the above dataframe df1:\n",
    "\n",
    "(i) mean of each and every column present in the dataframe.\n",
    "\n",
    "(ii) standard deviation of column, ‘column_2’"
   ]
  },
  {
   "cell_type": "code",
   "execution_count": 20,
   "metadata": {},
   "outputs": [],
   "source": [
    "import pandas as pd\n",
    "\n",
    "import numpy as np\n",
    "\n",
    "columns = ['column_1', 'column_2', 'column_3', 'column_4', 'column_5', 'column_6']\n",
    "\n",
    "indices = [1,2,3,4,5,6]\n",
    "\n",
    "#Creating a dataframe:\n",
    "\n",
    "df1 = pd.DataFrame(np.random.rand(6,6), columns = columns, index = indices)"
   ]
  },
  {
   "cell_type": "code",
   "execution_count": 21,
   "metadata": {},
   "outputs": [
    {
     "data": {
      "text/html": [
       "<div>\n",
       "<style scoped>\n",
       "    .dataframe tbody tr th:only-of-type {\n",
       "        vertical-align: middle;\n",
       "    }\n",
       "\n",
       "    .dataframe tbody tr th {\n",
       "        vertical-align: top;\n",
       "    }\n",
       "\n",
       "    .dataframe thead th {\n",
       "        text-align: right;\n",
       "    }\n",
       "</style>\n",
       "<table border=\"1\" class=\"dataframe\">\n",
       "  <thead>\n",
       "    <tr style=\"text-align: right;\">\n",
       "      <th></th>\n",
       "      <th>column_1</th>\n",
       "      <th>column_2</th>\n",
       "      <th>column_3</th>\n",
       "      <th>column_4</th>\n",
       "      <th>column_5</th>\n",
       "      <th>column_6</th>\n",
       "    </tr>\n",
       "  </thead>\n",
       "  <tbody>\n",
       "    <tr>\n",
       "      <th>1</th>\n",
       "      <td>0.916279</td>\n",
       "      <td>0.609831</td>\n",
       "      <td>0.067463</td>\n",
       "      <td>0.574387</td>\n",
       "      <td>0.493424</td>\n",
       "      <td>0.537881</td>\n",
       "    </tr>\n",
       "    <tr>\n",
       "      <th>2</th>\n",
       "      <td>0.186450</td>\n",
       "      <td>0.953665</td>\n",
       "      <td>0.934481</td>\n",
       "      <td>0.212097</td>\n",
       "      <td>0.595963</td>\n",
       "      <td>0.056360</td>\n",
       "    </tr>\n",
       "    <tr>\n",
       "      <th>3</th>\n",
       "      <td>0.237886</td>\n",
       "      <td>0.419351</td>\n",
       "      <td>0.668782</td>\n",
       "      <td>0.465907</td>\n",
       "      <td>0.238031</td>\n",
       "      <td>0.674213</td>\n",
       "    </tr>\n",
       "    <tr>\n",
       "      <th>4</th>\n",
       "      <td>0.669679</td>\n",
       "      <td>0.450104</td>\n",
       "      <td>0.176336</td>\n",
       "      <td>0.108589</td>\n",
       "      <td>0.372659</td>\n",
       "      <td>0.026745</td>\n",
       "    </tr>\n",
       "    <tr>\n",
       "      <th>5</th>\n",
       "      <td>0.968951</td>\n",
       "      <td>0.658580</td>\n",
       "      <td>0.882623</td>\n",
       "      <td>0.195544</td>\n",
       "      <td>0.264757</td>\n",
       "      <td>0.073131</td>\n",
       "    </tr>\n",
       "    <tr>\n",
       "      <th>6</th>\n",
       "      <td>0.256837</td>\n",
       "      <td>0.454237</td>\n",
       "      <td>0.822694</td>\n",
       "      <td>0.807564</td>\n",
       "      <td>0.010080</td>\n",
       "      <td>0.196363</td>\n",
       "    </tr>\n",
       "  </tbody>\n",
       "</table>\n",
       "</div>"
      ],
      "text/plain": [
       "   column_1  column_2  column_3  column_4  column_5  column_6\n",
       "1  0.916279  0.609831  0.067463  0.574387  0.493424  0.537881\n",
       "2  0.186450  0.953665  0.934481  0.212097  0.595963  0.056360\n",
       "3  0.237886  0.419351  0.668782  0.465907  0.238031  0.674213\n",
       "4  0.669679  0.450104  0.176336  0.108589  0.372659  0.026745\n",
       "5  0.968951  0.658580  0.882623  0.195544  0.264757  0.073131\n",
       "6  0.256837  0.454237  0.822694  0.807564  0.010080  0.196363"
      ]
     },
     "execution_count": 21,
     "metadata": {},
     "output_type": "execute_result"
    }
   ],
   "source": [
    "df1"
   ]
  },
  {
   "cell_type": "code",
   "execution_count": 22,
   "metadata": {},
   "outputs": [
    {
     "name": "stdout",
     "output_type": "stream",
     "text": [
      "Mean of each column:\n",
      "column_1    0.539347\n",
      "column_2    0.590961\n",
      "column_3    0.592063\n",
      "column_4    0.394015\n",
      "column_5    0.329153\n",
      "column_6    0.260782\n",
      "dtype: float64\n",
      "\n",
      "Standard deviation of column 'column_2':\n",
      "0.2022210230375031\n"
     ]
    }
   ],
   "source": [
    "# (i) Mean of each and every column in the dataframe\n",
    "column_means = df1.mean()\n",
    "print(\"Mean of each column:\")\n",
    "print(column_means)\n",
    "\n",
    "# (ii) Standard deviation of column 'column_2'\n",
    "column_2_std = df1['column_2'].std()\n",
    "print(\"\\nStandard deviation of column 'column_2':\")\n",
    "print(column_2_std)"
   ]
  },
  {
   "cell_type": "markdown",
   "metadata": {},
   "source": [
    "Q5. Replace the data present in the second row of column, ‘column_2’ by a string variable then find the\n",
    "mean of column, column_2.\n",
    "\n",
    "If you are getting errors in executing it then explain why.\n",
    "\n",
    "[Hint: To replace the data use df1.loc[] and equate this to string data of your choice.]"
   ]
  },
  {
   "cell_type": "code",
   "execution_count": 29,
   "metadata": {},
   "outputs": [
    {
     "data": {
      "text/html": [
       "<div>\n",
       "<style scoped>\n",
       "    .dataframe tbody tr th:only-of-type {\n",
       "        vertical-align: middle;\n",
       "    }\n",
       "\n",
       "    .dataframe tbody tr th {\n",
       "        vertical-align: top;\n",
       "    }\n",
       "\n",
       "    .dataframe thead th {\n",
       "        text-align: right;\n",
       "    }\n",
       "</style>\n",
       "<table border=\"1\" class=\"dataframe\">\n",
       "  <thead>\n",
       "    <tr style=\"text-align: right;\">\n",
       "      <th></th>\n",
       "      <th>column_1</th>\n",
       "      <th>column_2</th>\n",
       "      <th>column_3</th>\n",
       "      <th>column_4</th>\n",
       "      <th>column_5</th>\n",
       "      <th>column_6</th>\n",
       "    </tr>\n",
       "  </thead>\n",
       "  <tbody>\n",
       "    <tr>\n",
       "      <th>1</th>\n",
       "      <td>0.916279</td>\n",
       "      <td>Rahul</td>\n",
       "      <td>0.067463</td>\n",
       "      <td>0.574387</td>\n",
       "      <td>0.493424</td>\n",
       "      <td>0.537881</td>\n",
       "    </tr>\n",
       "    <tr>\n",
       "      <th>2</th>\n",
       "      <td>0.186450</td>\n",
       "      <td>0.953665</td>\n",
       "      <td>0.934481</td>\n",
       "      <td>0.212097</td>\n",
       "      <td>0.595963</td>\n",
       "      <td>0.056360</td>\n",
       "    </tr>\n",
       "    <tr>\n",
       "      <th>3</th>\n",
       "      <td>0.237886</td>\n",
       "      <td>0.419351</td>\n",
       "      <td>0.668782</td>\n",
       "      <td>0.465907</td>\n",
       "      <td>0.238031</td>\n",
       "      <td>0.674213</td>\n",
       "    </tr>\n",
       "    <tr>\n",
       "      <th>4</th>\n",
       "      <td>0.669679</td>\n",
       "      <td>0.450104</td>\n",
       "      <td>0.176336</td>\n",
       "      <td>0.108589</td>\n",
       "      <td>0.372659</td>\n",
       "      <td>0.026745</td>\n",
       "    </tr>\n",
       "    <tr>\n",
       "      <th>5</th>\n",
       "      <td>0.968951</td>\n",
       "      <td>0.65858</td>\n",
       "      <td>0.882623</td>\n",
       "      <td>0.195544</td>\n",
       "      <td>0.264757</td>\n",
       "      <td>0.073131</td>\n",
       "    </tr>\n",
       "    <tr>\n",
       "      <th>6</th>\n",
       "      <td>0.256837</td>\n",
       "      <td>0.454237</td>\n",
       "      <td>0.822694</td>\n",
       "      <td>0.807564</td>\n",
       "      <td>0.010080</td>\n",
       "      <td>0.196363</td>\n",
       "    </tr>\n",
       "  </tbody>\n",
       "</table>\n",
       "</div>"
      ],
      "text/plain": [
       "   column_1  column_2  column_3  column_4  column_5  column_6\n",
       "1  0.916279     Rahul  0.067463  0.574387  0.493424  0.537881\n",
       "2  0.186450  0.953665  0.934481  0.212097  0.595963  0.056360\n",
       "3  0.237886  0.419351  0.668782  0.465907  0.238031  0.674213\n",
       "4  0.669679  0.450104  0.176336  0.108589  0.372659  0.026745\n",
       "5  0.968951   0.65858  0.882623  0.195544  0.264757  0.073131\n",
       "6  0.256837  0.454237  0.822694  0.807564  0.010080  0.196363"
      ]
     },
     "execution_count": 29,
     "metadata": {},
     "output_type": "execute_result"
    }
   ],
   "source": [
    "df1.loc[1,'column_2'] = 'Rahul'\n",
    "df1"
   ]
  },
  {
   "cell_type": "code",
   "execution_count": 31,
   "metadata": {},
   "outputs": [],
   "source": [
    "column_2_mean = df1['column_2'].mean()\n",
    "print(\"Mean of column 'column_2':\", column_2_mean)"
   ]
  },
  {
   "cell_type": "markdown",
   "metadata": {},
   "source": [
    "The error is likely occurring because the 'column_2' values are now of mixed types (numeric and string). Pandas is unable to calculate the mean when the column contains both numeric and non-numeric data."
   ]
  },
  {
   "cell_type": "markdown",
   "metadata": {},
   "source": [
    "**Q6.** What do you understand about the windows function in pandas and list the types of windows\n",
    "functions?"
   ]
  },
  {
   "cell_type": "markdown",
   "metadata": {},
   "source": [
    "In pandas, a window function is a way to perform calculations on a specific subset of data within a defined window or frame. It allows us to apply aggregate functions like mean, sum, min, max, etc., to a specified range of rows in a DataFrame based on certain conditions. "
   ]
  },
  {
   "cell_type": "markdown",
   "metadata": {},
   "source": [
    "**The main components of a window function are:**\n",
    "\n",
    "**Partition By:** It divides the data into groups based on one or more columns. The window function is applied independently within each partition.\n",
    "\n",
    "**Order By:** It defines the order of the rows within each partition, determining how the window slides or expands."
   ]
  },
  {
   "cell_type": "markdown",
   "metadata": {},
   "source": [
    "**Types of window functions:**\n",
    "\n",
    "**Rolling Window Functions:**\n",
    "\n",
    "Rolling Mean: Computes the moving average over a specified number of consecutive rows.\n",
    "\n",
    "Rolling Sum: Calculates the moving sum over a defined window.\n",
    "\n",
    "Rolling Min/Max: Computes the moving minimum or maximum over a specific window.\n",
    "\n",
    "**Expanding Window Functions:**\n",
    "\n",
    "Expanding Mean: Calculates the cumulative mean from the start of the data up to the current row.\n",
    "\n",
    "Expanding Sum: Computes the cumulative sum from the beginning of the data up to the current row.\n",
    "\n",
    "Expanding Min/Max: Calculates the cumulative minimum or maximum from the start of the data up to the current row.\n",
    "\n",
    "**Aggregation Window Functions:**\n",
    "\n",
    "Mean: Computes the mean of the values within the defined window.\n",
    "\n",
    "Sum: Calculates the sum of the values within the window.\n",
    "\n",
    "Min/Max: Computes the minimum or maximum value within the window.\n",
    "\n",
    "Count: Counts the number of non-null values within the window.\n",
    "\n",
    "These window functions are accessible using the .rolling() and .expanding() methods in pandas.\n",
    "\n",
    "Custom calculations can be performed using .apply() in combination with window functions.\n",
    "\n",
    "\n"
   ]
  },
  {
   "cell_type": "markdown",
   "metadata": {},
   "source": [
    "**Q7.** Write a code to print only the current month and year at the time of answering this question.\n",
    "[Hint: Use pandas.datetime function]"
   ]
  },
  {
   "cell_type": "code",
   "execution_count": 33,
   "metadata": {},
   "outputs": [
    {
     "name": "stdout",
     "output_type": "stream",
     "text": [
      "Current Month: August\n",
      "Current Year: 2023\n"
     ]
    }
   ],
   "source": [
    "from datetime import datetime\n",
    "\n",
    "current_date = datetime.now()\n",
    "\n",
    "# current_month = current_date.month\n",
    "current_month = current_date.strftime('%B')\n",
    "current_year = current_date.year\n",
    "\n",
    "print(\"Current Month:\", current_month)\n",
    "print(\"Current Year:\", current_year)\n"
   ]
  },
  {
   "cell_type": "markdown",
   "metadata": {},
   "source": [
    "**Q8.** Write a Python program that takes in two dates as input (in the format YYYY-MM-DD) and\n",
    "\n",
    "calculates the difference between them in days, hours, and minutes using Pandas time delta.\n",
    "\n",
    "The program should prompt the user to enter the dates and display the result."
   ]
  },
  {
   "cell_type": "code",
   "execution_count": 36,
   "metadata": {},
   "outputs": [
    {
     "name": "stdout",
     "output_type": "stream",
     "text": [
      "Time difference: 1085 days, 0 hours, and 0 minutes.\n"
     ]
    }
   ],
   "source": [
    "def calculate_time_difference(start_date, end_date):\n",
    "    # Convert the input dates to pandas datetime objects\n",
    "    start_datetime = pd.to_datetime(start_date)\n",
    "    end_datetime = pd.to_datetime(end_date)\n",
    "\n",
    "    # Calculate the time difference using timedelta\n",
    "    time_difference = end_datetime - start_datetime\n",
    "\n",
    "    # Extract days, hours, and minutes from the time difference\n",
    "    days = time_difference.days\n",
    "    hours = time_difference.seconds // 3600\n",
    "    minutes = (time_difference.seconds % 3600) // 60\n",
    "\n",
    "    return days, hours, minutes\n",
    "\n",
    "if __name__ == \"__main__\":\n",
    "  \n",
    "    start_date_input = input(\"Enter the start date (YYYY-MM-DD): \")\n",
    "    end_date_input = input(\"Enter the end date (YYYY-MM-DD): \")\n",
    "\n",
    "    try:\n",
    "\n",
    "        days_diff, hours_diff, minutes_diff = calculate_time_difference(start_date_input, end_date_input)\n",
    "\n",
    "        \n",
    "        print(f\"Time difference: {days_diff} days, {hours_diff} hours, and {minutes_diff} minutes.\")\n",
    "    except ValueError:\n",
    "        print(\"Invalid date format. Please enter the dates in the format 'YYYY-MM-DD'.\")\n"
   ]
  },
  {
   "cell_type": "markdown",
   "metadata": {},
   "source": [
    "**Q9.** Write a Python program that reads a CSV file containing categorical data and converts a specified\n",
    "column to a categorical data type. The program should prompt the user to enter the file path, column\n",
    "name, and category order, and then display the sorted data."
   ]
  },
  {
   "cell_type": "code",
   "execution_count": 43,
   "metadata": {},
   "outputs": [
    {
     "name": "stdout",
     "output_type": "stream",
     "text": [
      "Sorted Data:\n",
      "(                     Name  Team  \\\n",
      "0          Mayank Agarwal  PBKS   \n",
      "1        Liam Livingstone  PBKS   \n",
      "2           Kagiso Rabada  PBKS   \n",
      "3           Shahrukh Khan  PBKS   \n",
      "4          Shikhar Dhawan  PBKS   \n",
      "..                    ...   ...   \n",
      "232  Gurkeerat Singh Mann    GT   \n",
      "233            Noor Ahmad    GT   \n",
      "234      Darshan Nalkande    GT   \n",
      "235         Sai Sudharsan    GT   \n",
      "236       Pradeep Sangwan    GT   \n",
      "\n",
      "                                                   Url          Type  \\\n",
      "0    https://sports.ndtv.com/cricket/players/1430-m...      Batsman    \n",
      "1    https://sports.ndtv.com/cricket/players/64363-...  All-Rounder    \n",
      "2    https://sports.ndtv.com/cricket/players/64042-...       Bowler    \n",
      "3    https://sports.ndtv.com/cricket/players/113433...  All-Rounder    \n",
      "4    https://sports.ndtv.com/cricket/players/737-sh...      Batsman    \n",
      "..                                                 ...           ...   \n",
      "232  https://sports.ndtv.com/cricket/players/1661-g...  All-Rounder    \n",
      "233  https://sports.ndtv.com/cricket/players/112545...       Bowler    \n",
      "234  https://sports.ndtv.com/cricket/players/110589...  All-Rounder    \n",
      "235  https://sports.ndtv.com/cricket/players/115302...  All-Rounder    \n",
      "236  https://sports.ndtv.com/cricket/players/1047-p...  All-Rounder    \n",
      "\n",
      "     ValueinCR                 Full Name  \\\n",
      "0        12.00     Mayank Anurag Agarwal   \n",
      "1        11.50  Liam Stephen Livingstone   \n",
      "2         9.25             Kagiso Rabada   \n",
      "3         9.00      Masood Shahrukh Khan   \n",
      "4         8.25            Shikhar Dhawan   \n",
      "..         ...                       ...   \n",
      "232       0.50  Gurkeerat Rupinder Singh   \n",
      "233       0.30       Noor Ahmad Lakanwal   \n",
      "234       0.20   Darshan Girish Nalkande   \n",
      "235       0.20    Bhardwaj Sai Sudharsan   \n",
      "236       0.20   Pradeep Jaibeer Sangwan   \n",
      "\n",
      "                                             Born  \\\n",
      "0          February 16, 1991 Bangalore, Karnataka   \n",
      "1    August 4, 1993 Barrow-in-Furness, Cumberland   \n",
      "2                       May 25, 1995 Johannesburg   \n",
      "3                May 27, 1995 Chennai, Tamil Nadu   \n",
      "4                          December 5, 1985 Delhi   \n",
      "..                                            ...   \n",
      "232                 June 29, 1990 Muktsar, Punjab   \n",
      "233                              January 3, 2005    \n",
      "234           October 4, 1998 Wardha, Maharashtra   \n",
      "235                             October 15, 2001    \n",
      "236               November 5, 1990 Rasiwas, Delhi   \n",
      "\n",
      "                             Age National Side Batting Style  ... Maidens  \\\n",
      "0    31 Years, 0 Months, 28 Days         India           NaN  ...     NaN   \n",
      "1    28 Years, 7 Months, 11 Days       England           NaN  ...     0.0   \n",
      "2    26 Years, 9 Months, 22 Days  South Africa           NaN  ...     2.0   \n",
      "3    26 Years, 9 Months, 20 Days         India           NaN  ...     NaN   \n",
      "4    36 Years, 3 Months, 10 Days         India           NaN  ...     0.0   \n",
      "..                           ...           ...           ...  ...     ...   \n",
      "232  31 Years, 8 Months, 16 Days         India           NaN  ...     0.0   \n",
      "233  17 Years, 2 Months, 12 Days   Afghanistan           NaN  ...     NaN   \n",
      "234  23 Years, 5 Months, 11 Days         India           NaN  ...     NaN   \n",
      "235   20 Years, 5 Months, 0 Days         India           NaN  ...     NaN   \n",
      "236  31 Years, 4 Months, 10 Days         India           NaN  ...     1.0   \n",
      "\n",
      "    RunsConceded  Wickets        Best   3s   5s BowlingAVG  EconomyRate  \\\n",
      "0            NaN      NaN         NaN  NaN  NaN        NaN          NaN   \n",
      "1           13.0      0.0   0/13 v MI  0.0  0.0        NaN        13.00   \n",
      "2         1560.0     76.0  4/21 v RCB  4.0  0.0      20.52         8.21   \n",
      "3            NaN      NaN         NaN  NaN  NaN        NaN          NaN   \n",
      "4           66.0      4.0    1/7 v DC  0.0  0.0      16.50         8.25   \n",
      "..           ...      ...         ...  ...  ...        ...          ...   \n",
      "232         97.0      5.0  2/15 v RPS  0.0  0.0      19.40         7.46   \n",
      "233          NaN      NaN         NaN  NaN  NaN        NaN          NaN   \n",
      "234          NaN      NaN         NaN  NaN  NaN        NaN          NaN   \n",
      "235          NaN      NaN         NaN  NaN  NaN        NaN          NaN   \n",
      "236       1175.0     35.0  3/18 v DCH  3.0  0.0      33.57         8.79   \n",
      "\n",
      "       S/R   Mtc  \n",
      "0      NaN   NaN  \n",
      "1      NaN   1.0  \n",
      "2    15.00  50.0  \n",
      "3      NaN   NaN  \n",
      "4    12.00   6.0  \n",
      "..     ...   ...  \n",
      "232  15.60   6.0  \n",
      "233    NaN   NaN  \n",
      "234    NaN   NaN  \n",
      "235    NaN   NaN  \n",
      "236  22.91  39.0  \n",
      "\n",
      "[237 rows x 39 columns],                      Name  Team  \\\n",
      "0          Mayank Agarwal  PBKS   \n",
      "1        Liam Livingstone  PBKS   \n",
      "2           Kagiso Rabada  PBKS   \n",
      "3           Shahrukh Khan  PBKS   \n",
      "4          Shikhar Dhawan  PBKS   \n",
      "..                    ...   ...   \n",
      "232  Gurkeerat Singh Mann    GT   \n",
      "233            Noor Ahmad    GT   \n",
      "234      Darshan Nalkande    GT   \n",
      "235         Sai Sudharsan    GT   \n",
      "236       Pradeep Sangwan    GT   \n",
      "\n",
      "                                                   Url          Type  \\\n",
      "0    https://sports.ndtv.com/cricket/players/1430-m...      Batsman    \n",
      "1    https://sports.ndtv.com/cricket/players/64363-...  All-Rounder    \n",
      "2    https://sports.ndtv.com/cricket/players/64042-...       Bowler    \n",
      "3    https://sports.ndtv.com/cricket/players/113433...  All-Rounder    \n",
      "4    https://sports.ndtv.com/cricket/players/737-sh...      Batsman    \n",
      "..                                                 ...           ...   \n",
      "232  https://sports.ndtv.com/cricket/players/1661-g...  All-Rounder    \n",
      "233  https://sports.ndtv.com/cricket/players/112545...       Bowler    \n",
      "234  https://sports.ndtv.com/cricket/players/110589...  All-Rounder    \n",
      "235  https://sports.ndtv.com/cricket/players/115302...  All-Rounder    \n",
      "236  https://sports.ndtv.com/cricket/players/1047-p...  All-Rounder    \n",
      "\n",
      "     ValueinCR                 Full Name  \\\n",
      "0        12.00     Mayank Anurag Agarwal   \n",
      "1        11.50  Liam Stephen Livingstone   \n",
      "2         9.25             Kagiso Rabada   \n",
      "3         9.00      Masood Shahrukh Khan   \n",
      "4         8.25            Shikhar Dhawan   \n",
      "..         ...                       ...   \n",
      "232       0.50  Gurkeerat Rupinder Singh   \n",
      "233       0.30       Noor Ahmad Lakanwal   \n",
      "234       0.20   Darshan Girish Nalkande   \n",
      "235       0.20    Bhardwaj Sai Sudharsan   \n",
      "236       0.20   Pradeep Jaibeer Sangwan   \n",
      "\n",
      "                                             Born  \\\n",
      "0          February 16, 1991 Bangalore, Karnataka   \n",
      "1    August 4, 1993 Barrow-in-Furness, Cumberland   \n",
      "2                       May 25, 1995 Johannesburg   \n",
      "3                May 27, 1995 Chennai, Tamil Nadu   \n",
      "4                          December 5, 1985 Delhi   \n",
      "..                                            ...   \n",
      "232                 June 29, 1990 Muktsar, Punjab   \n",
      "233                              January 3, 2005    \n",
      "234           October 4, 1998 Wardha, Maharashtra   \n",
      "235                             October 15, 2001    \n",
      "236               November 5, 1990 Rasiwas, Delhi   \n",
      "\n",
      "                             Age National Side Batting Style  ... Maidens  \\\n",
      "0    31 Years, 0 Months, 28 Days         India           NaN  ...     NaN   \n",
      "1    28 Years, 7 Months, 11 Days       England           NaN  ...     0.0   \n",
      "2    26 Years, 9 Months, 22 Days  South Africa           NaN  ...     2.0   \n",
      "3    26 Years, 9 Months, 20 Days         India           NaN  ...     NaN   \n",
      "4    36 Years, 3 Months, 10 Days         India           NaN  ...     0.0   \n",
      "..                           ...           ...           ...  ...     ...   \n",
      "232  31 Years, 8 Months, 16 Days         India           NaN  ...     0.0   \n",
      "233  17 Years, 2 Months, 12 Days   Afghanistan           NaN  ...     NaN   \n",
      "234  23 Years, 5 Months, 11 Days         India           NaN  ...     NaN   \n",
      "235   20 Years, 5 Months, 0 Days         India           NaN  ...     NaN   \n",
      "236  31 Years, 4 Months, 10 Days         India           NaN  ...     1.0   \n",
      "\n",
      "    RunsConceded  Wickets        Best   3s   5s BowlingAVG  EconomyRate  \\\n",
      "0            NaN      NaN         NaN  NaN  NaN        NaN          NaN   \n",
      "1           13.0      0.0   0/13 v MI  0.0  0.0        NaN        13.00   \n",
      "2         1560.0     76.0  4/21 v RCB  4.0  0.0      20.52         8.21   \n",
      "3            NaN      NaN         NaN  NaN  NaN        NaN          NaN   \n",
      "4           66.0      4.0    1/7 v DC  0.0  0.0      16.50         8.25   \n",
      "..           ...      ...         ...  ...  ...        ...          ...   \n",
      "232         97.0      5.0  2/15 v RPS  0.0  0.0      19.40         7.46   \n",
      "233          NaN      NaN         NaN  NaN  NaN        NaN          NaN   \n",
      "234          NaN      NaN         NaN  NaN  NaN        NaN          NaN   \n",
      "235          NaN      NaN         NaN  NaN  NaN        NaN          NaN   \n",
      "236       1175.0     35.0  3/18 v DCH  3.0  0.0      33.57         8.79   \n",
      "\n",
      "       S/R   Mtc  \n",
      "0      NaN   NaN  \n",
      "1      NaN   1.0  \n",
      "2    15.00  50.0  \n",
      "3      NaN   NaN  \n",
      "4    12.00   6.0  \n",
      "..     ...   ...  \n",
      "232  15.60   6.0  \n",
      "233    NaN   NaN  \n",
      "234    NaN   NaN  \n",
      "235    NaN   NaN  \n",
      "236  22.91  39.0  \n",
      "\n",
      "[237 rows x 39 columns])\n"
     ]
    }
   ],
   "source": [
    "def convert_column_to_categorical(file_path, column_name, category_order):\n",
    "    \n",
    "    df = pd.read_csv(file_path)\n",
    "\n",
    "    # Convert the specified column to a categorical data type\n",
    "    df[column_name] = pd.Categorical(df[column_name], categories=category_order, ordered=False)\n",
    "\n",
    "    # Sort the DataFrame based on the specified column\n",
    "    df_sorted = df.sort_values(by=column_name)\n",
    "\n",
    "    return df_sorted\n",
    "\n",
    "if __name__ == \"__main__\":\n",
    "\n",
    "    file_path = input(\"Enter the file path (CSV): \")\n",
    "    column_name = input(\"Enter the column name to convert to categorical: \")\n",
    "    category_order = input(\"Enter the category order (comma-separated): \").split(',')\n",
    "\n",
    "    try:\n",
    "       \n",
    "        sorted_data = convert_column_to_categorical(file_path, column_name, category_order)\n",
    "   \n",
    "        print(\"Sorted Data:\")\n",
    "        print(sorted_data)\n",
    "    except FileNotFoundError:\n",
    "        print(\"File not found. Please enter a valid file path.\")\n",
    "    except KeyError:\n",
    "        print(\"Column name not found in the CSV file. Please enter a valid column name.\")\n",
    "    except ValueError:\n",
    "        print(\"Invalid category order. Please enter the categories correctly (comma-separated).\")\n"
   ]
  },
  {
   "cell_type": "markdown",
   "metadata": {},
   "source": [
    "**Q10.** Write a Python program that reads a CSV file containing sales data for different products and\n",
    "\n",
    "visualizes the data using a stacked bar chart to show the sales of each product category over time.\n",
    "\n",
    "The program should prompt the user to enter the file path and display the chart."
   ]
  },
  {
   "cell_type": "code",
   "execution_count": 51,
   "metadata": {},
   "outputs": [
    {
     "data": {
      "image/png": "[encoded data removed]",
      "text/plain": [
       "<Figure size 1000x600 with 1 Axes>"
      ]
     },
     "metadata": {},
     "output_type": "display_data"
    }
   ],
   "source": [
    "import pandas as pd\n",
    "import matplotlib.pyplot as plt\n",
    "\n",
    "def visualize_sales_data(file_path):\n",
    "    \n",
    "    df = pd.read_csv(file_path)\n",
    "\n",
    "    # Group the data by 'Date' and 'Product Category' and calculate total sales for each category on each date\n",
    "    sales_data = df.groupby(['Order Date', 'Category'])['Sales'].sum().unstack()\n",
    "\n",
    "    # Create a stacked bar chart using pandas' built-in plotting function\n",
    "    sales_data.plot(kind='bar', stacked=True, figsize=(10, 6))\n",
    "\n",
    "    plt.xlabel('Order Date')\n",
    "    plt.ylabel('Sales')\n",
    "    plt.title('Sales Data by Product Category over Time')\n",
    "    plt.xticks(rotation=45)\n",
    "    plt.legend(title='Category')\n",
    "\n",
    "   \n",
    "    plt.tight_layout()\n",
    "    plt.show()\n",
    "\n",
    "if __name__ == \"__main__\":\n",
    "   \n",
    "    file_path = input(\"Enter the file path (CSV): \")\n",
    "\n",
    "    try:\n",
    "        \n",
    "        visualize_sales_data(file_path)\n",
    "    except FileNotFoundError:\n",
    "        print(\"File not found. Please enter a valid file path.\")\n",
    "    except pd.errors.EmptyDataError:\n",
    "        print(\"The CSV file is empty. Please check the file contents.\")\n",
    "    except KeyError:\n",
    "        print(\"Some required columns are missing in the CSV file. Please check the file contents.\")\n",
    "    except Exception as e:\n",
    "        print(\"An error occurred:\", e)\n"
   ]
  },
  {
   "cell_type": "markdown",
   "metadata": {},
   "source": [
    "**Q11.** You are given a CSV file containing student data that includes the student ID and their test score. Write\n",
    "a Python program that reads the CSV file, calculates the mean, median, and mode of the test scores, and\n",
    "displays the results in a table.\n",
    "\n",
    "The program should do the followingM\n",
    "I Prompt the user to enter the file path of the CSV file containing the student dataR\n",
    "I Read the CSV file into a Pandas DataFrameR\n",
    "I Calculate the mean, median, and mode of the test scores using Pandas toolsR\n",
    "I Display the mean, median, and mode in a table.\n",
    "Assume the CSV file contains the following columnsM\n",
    "I Student ID: The ID of the studentR\n",
    "I Test Score: The score of the student's test.\n",
    "\n",
    "Example usage of the program:\n",
    "Enter the file path of the CSV file containing the student data: student_data.csv\n",
    "+-----------+--------+\n",
    "| Statistic | Value |\n",
    "+-----------+--------+\n",
    "| Mean | 79.6 |\n",
    "| Median | 82 |\n",
    "| Mode | 85, 90 |\n",
    "+-----------+--------+\n",
    "Assume that the CSV file student_data.csv contains the following data:\n",
    "Student ID,Test Score\n",
    "1,85\n",
    "2,90\n",
    "3,80\n",
    "4,75\n",
    "5,85\n",
    "6,82\n",
    "7,78\n",
    "8,85\n",
    "9,90\n",
    "10,85\n",
    "\n",
    "The program should calculate the mean, median, and mode of the test scores and display the results in a table."
   ]
  },
  {
   "cell_type": "code",
   "execution_count": 70,
   "metadata": {},
   "outputs": [
    {
     "name": "stdout",
     "output_type": "stream",
     "text": [
      "  Statistic Value\n",
      "0      Mean  83.5\n",
      "1    Median  85.0\n",
      "2      Mode    85\n"
     ]
    }
   ],
   "source": [
    "def calculate_statistics(file_path):\n",
    "\n",
    "    df = pd.read_csv(file_path)\n",
    "\n",
    "    mean_score = df['Test Score'].mean()\n",
    "    median_score = df['Test Score'].median()\n",
    "    mode_scores = df['Test Score'].mode()\n",
    "    \n",
    "    # Convert mode to a comma-separated string representation\n",
    "    mode_str = ', '.join(map(str, mode_scores))\n",
    "\n",
    "    return mean_score, median_score, mode_str\n",
    "\n",
    "if __name__ == \"__main__\":\n",
    "  \n",
    "    file_path = input(\"Enter the file path of the CSV file containing the student data: \")\n",
    "\n",
    "    try:\n",
    "       \n",
    "        mean, median, mode = calculate_statistics(file_path)\n",
    "\n",
    "        \n",
    "        table = pd.DataFrame({\n",
    "            'Statistic': ['Mean', 'Median', 'Mode'],\n",
    "            'Value': [mean, median, mode]\n",
    "        })\n",
    "\n",
    "        print(table)\n",
    "    except FileNotFoundError:\n",
    "        print(\"File not found. Please enter a valid file path.\")\n",
    "    except pd.errors.EmptyDataError:\n",
    "        print(\"The CSV file is empty. Please check the file contents.\")\n",
    "    except Exception as e:\n",
    "        print(\"An error occurred:\", e)\n"
   ]
  },
  {
   "cell_type": "code",
   "execution_count": null,
   "metadata": {},
   "outputs": [],
   "source": []
  }
 ],
 "metadata": {
  "kernelspec": {
   "display_name": "Python 3",
   "language": "python",
   "name": "python3"
  },
  "language_info": {
   "codemirror_mode": {
    "name": "ipython",
    "version": 3
   },
   "file_extension": ".py",
   "mimetype": "text/x-python",
   "name": "python",
   "nbconvert_exporter": "python",
   "pygments_lexer": "ipython3",
   "version": "3.11.1"
  },
  "orig_nbformat": 4
 },
 "nbformat": 4,
 "nbformat_minor": 2
}
